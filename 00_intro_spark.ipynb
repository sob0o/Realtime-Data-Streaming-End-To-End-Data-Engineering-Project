{
 "cells": [
  {
   "cell_type": "code",
   "execution_count": 72,
   "metadata": {},
   "outputs": [
    {
     "name": "stdout",
     "output_type": "stream",
     "text": [
      "rahi 4.3 ghalia \n"
     ]
    }
   ],
   "source": [
    "x = 4.3\n",
    "\n",
    "print(f\"rahi {str(x)} ghalia \")"
   ]
  },
  {
   "cell_type": "code",
   "execution_count": 60,
   "metadata": {},
   "outputs": [],
   "source": [
    "# !pip install pyspark"
   ]
  },
  {
   "cell_type": "code",
   "execution_count": 61,
   "metadata": {},
   "outputs": [],
   "source": [
    "import pyspark"
   ]
  },
  {
   "cell_type": "code",
   "execution_count": 62,
   "metadata": {},
   "outputs": [],
   "source": [
    "from pyspark.sql import SparkSession"
   ]
  },
  {
   "cell_type": "code",
   "execution_count": 63,
   "metadata": {},
   "outputs": [],
   "source": [
    "spark = SparkSession.builder.appName('Practise').getOrCreate()"
   ]
  },
  {
   "cell_type": "code",
   "execution_count": 64,
   "metadata": {},
   "outputs": [
    {
     "data": {
      "text/html": [
       "\n",
       "            <div>\n",
       "                <p><b>SparkSession - in-memory</b></p>\n",
       "                \n",
       "        <div>\n",
       "            <p><b>SparkContext</b></p>\n",
       "\n",
       "            <p><a href=\"http://10.10.253.209:4040\">Spark UI</a></p>\n",
       "\n",
       "            <dl>\n",
       "              <dt>Version</dt>\n",
       "                <dd><code>v3.5.3</code></dd>\n",
       "              <dt>Master</dt>\n",
       "                <dd><code>local[*]</code></dd>\n",
       "              <dt>AppName</dt>\n",
       "                <dd><code>Practise</code></dd>\n",
       "            </dl>\n",
       "        </div>\n",
       "        \n",
       "            </div>\n",
       "        "
      ],
      "text/plain": [
       "<pyspark.sql.session.SparkSession at 0x206dee15910>"
      ]
     },
     "execution_count": 64,
     "metadata": {},
     "output_type": "execute_result"
    }
   ],
   "source": [
    "spark"
   ]
  },
  {
   "cell_type": "code",
   "execution_count": 65,
   "metadata": {},
   "outputs": [],
   "source": [
    "df_pyspark = spark.read.option('header','true').csv('cars.csv')"
   ]
  },
  {
   "cell_type": "code",
   "execution_count": 66,
   "metadata": {},
   "outputs": [
    {
     "name": "stdout",
     "output_type": "stream",
     "text": [
      "+----+----------+--------------------+----------+----+----------+----+-----------------+----------------+-----------------+----------------+---------------+----------------+------+------+----+--------+\n",
      "|YEAR|      Make|               Model|      Size|(kW)|Unnamed: 5|TYPE|CITY (kWh/100 km)|HWY (kWh/100 km)|COMB (kWh/100 km)|CITY (Le/100 km)|HWY (Le/100 km)|COMB (Le/100 km)|(g/km)|RATING|(km)|TIME (h)|\n",
      "+----+----------+--------------------+----------+----+----------+----+-----------------+----------------+-----------------+----------------+---------------+----------------+------+------+----+--------+\n",
      "|2012|MITSUBISHI|              i-MiEV|SUBCOMPACT|  49|        A1|   B|             16.9|            21.4|             18.7|             1.9|            2.4|             2.1|     0|   n/a| 100|       7|\n",
      "|2012|    NISSAN|                LEAF|  MID-SIZE|  80|        A1|   B|             19.3|              23|             21.1|             2.2|            2.6|             2.4|     0|   n/a| 117|       7|\n",
      "|2013|      FORD|      FOCUS ELECTRIC|   COMPACT| 107|        A1|   B|               19|            21.1|               20|             2.1|            2.4|             2.2|     0|   n/a| 122|       4|\n",
      "|2013|MITSUBISHI|              i-MiEV|SUBCOMPACT|  49|        A1|   B|             16.9|            21.4|             18.7|             1.9|            2.4|             2.1|     0|   n/a| 100|       7|\n",
      "|2013|    NISSAN|                LEAF|  MID-SIZE|  80|        A1|   B|             19.3|              23|             21.1|             2.2|            2.6|             2.4|     0|   n/a| 117|       7|\n",
      "|2013|     SMART|FORTWO ELECTRIC D...|TWO-SEATER|  35|        A1|   B|             17.2|            22.5|             19.6|             1.9|            2.5|             2.2|     0|   n/a| 109|       8|\n",
      "|2013|     SMART|FORTWO ELECTRIC D...|TWO-SEATER|  35|        A1|   B|             17.2|            22.5|             19.6|             1.9|            2.5|             2.2|     0|   n/a| 109|       8|\n",
      "|2013|     TESLA|MODEL S (40 kWh b...| FULL-SIZE| 270|        A1|   B|             22.4|            21.9|             22.2|             2.5|            2.5|             2.5|     0|   n/a| 224|       6|\n",
      "|2013|     TESLA|MODEL S (60 kWh b...| FULL-SIZE| 270|        A1|   B|             22.2|            21.7|             21.9|             2.5|            2.4|             2.5|     0|   n/a| 335|      10|\n",
      "|2013|     TESLA|MODEL S (85 kWh b...| FULL-SIZE| 270|        A1|   B|             23.8|            23.2|             23.6|             2.7|            2.6|             2.6|     0|   n/a| 426|      12|\n",
      "|2013|     TESLA| MODEL S PERFORMANCE| FULL-SIZE| 310|        A1|   B|             23.9|            23.2|             23.6|             2.7|            2.6|             2.6|     0|   n/a| 426|      12|\n",
      "|2014| CHEVROLET|            SPARK EV|SUBCOMPACT| 104|        A1|   B|               16|            19.6|             17.8|             1.8|            2.2|               2|     0|   n/a| 131|       7|\n",
      "|2014|      FORD|      FOCUS ELECTRIC|   COMPACT| 107|        A1|   B|               19|            21.1|               20|             2.1|            2.4|             2.2|     0|   n/a| 122|       4|\n",
      "|2014|MITSUBISHI|              i-MiEV|SUBCOMPACT|  49|        A1|   B|             16.9|            21.4|             18.7|             1.9|            2.4|             2.1|     0|   n/a| 100|       7|\n",
      "|2014|    NISSAN|                LEAF|  MID-SIZE|  80|        A1|   B|             16.5|            20.8|             18.4|             1.9|            2.3|             2.1|     0|   n/a| 135|       5|\n",
      "|2014|     SMART|FORTWO ELECTRIC D...|TWO-SEATER|  35|        A1|   B|             17.2|            22.5|             19.6|             1.9|            2.5|             2.2|     0|   n/a| 109|       8|\n",
      "|2014|     SMART|FORTWO ELECTRIC D...|TWO-SEATER|  35|        A1|   B|             17.2|            22.5|             19.6|             1.9|            2.5|             2.2|     0|   n/a| 109|       8|\n",
      "|2014|     TESLA|MODEL S (60 kWh b...| FULL-SIZE| 225|        A1|   B|             22.2|            21.7|             21.9|             2.5|            2.4|             2.5|     0|   n/a| 335|      10|\n",
      "|2014|     TESLA|MODEL S (85 kWh b...| FULL-SIZE| 270|        A1|   B|             23.8|            23.2|             23.6|             2.7|            2.6|             2.6|     0|   n/a| 426|      12|\n",
      "|2014|     TESLA| MODEL S PERFORMANCE| FULL-SIZE| 310|        A1|   B|             23.9|            23.2|             23.6|             2.7|            2.6|             2.6|     0|   n/a| 426|      12|\n",
      "+----+----------+--------------------+----------+----+----------+----+-----------------+----------------+-----------------+----------------+---------------+----------------+------+------+----+--------+\n",
      "only showing top 20 rows\n",
      "\n"
     ]
    }
   ],
   "source": [
    "df_pyspark.show()"
   ]
  },
  {
   "cell_type": "code",
   "execution_count": 67,
   "metadata": {},
   "outputs": [
    {
     "data": {
      "text/plain": [
       "pyspark.sql.dataframe.DataFrame"
      ]
     },
     "execution_count": 67,
     "metadata": {},
     "output_type": "execute_result"
    }
   ],
   "source": [
    "type(df_pyspark)"
   ]
  },
  {
   "cell_type": "code",
   "execution_count": 68,
   "metadata": {},
   "outputs": [
    {
     "name": "stdout",
     "output_type": "stream",
     "text": [
      "root\n",
      " |-- YEAR: string (nullable = true)\n",
      " |-- Make: string (nullable = true)\n",
      " |-- Model: string (nullable = true)\n",
      " |-- Size: string (nullable = true)\n",
      " |-- (kW): string (nullable = true)\n",
      " |-- Unnamed: 5: string (nullable = true)\n",
      " |-- TYPE: string (nullable = true)\n",
      " |-- CITY (kWh/100 km): string (nullable = true)\n",
      " |-- HWY (kWh/100 km): string (nullable = true)\n",
      " |-- COMB (kWh/100 km): string (nullable = true)\n",
      " |-- CITY (Le/100 km): string (nullable = true)\n",
      " |-- HWY (Le/100 km): string (nullable = true)\n",
      " |-- COMB (Le/100 km): string (nullable = true)\n",
      " |-- (g/km): string (nullable = true)\n",
      " |-- RATING: string (nullable = true)\n",
      " |-- (km): string (nullable = true)\n",
      " |-- TIME (h): string (nullable = true)\n",
      "\n"
     ]
    }
   ],
   "source": [
    "df_pyspark.printSchema()"
   ]
  },
  {
   "cell_type": "code",
   "execution_count": 69,
   "metadata": {},
   "outputs": [],
   "source": [
    "spark.stop()"
   ]
  },
  {
   "cell_type": "code",
   "execution_count": null,
   "metadata": {},
   "outputs": [
    {
     "data": {
      "text/plain": [
       "tuple"
      ]
     },
     "execution_count": 44,
     "metadata": {},
     "output_type": "execute_result"
    }
   ],
   "source": [
    "x = (4,3)\n",
    "type(x)"
   ]
  }
 ],
 "metadata": {
  "kernelspec": {
   "display_name": ".venv",
   "language": "python",
   "name": "python3"
  },
  "language_info": {
   "codemirror_mode": {
    "name": "ipython",
    "version": 3
   },
   "file_extension": ".py",
   "mimetype": "text/x-python",
   "name": "python",
   "nbconvert_exporter": "python",
   "pygments_lexer": "ipython3",
   "version": "3.12.2"
  }
 },
 "nbformat": 4,
 "nbformat_minor": 2
}
